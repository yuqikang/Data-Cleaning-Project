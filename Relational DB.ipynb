{
 "cells": [
  {
   "cell_type": "markdown",
   "metadata": {},
   "source": [
    "# Data Clean withing Python "
   ]
  },
  {
   "cell_type": "code",
   "execution_count": null,
   "metadata": {},
   "outputs": [],
   "source": [
    "import pandas as pd\n",
    "\n",
    "df = pd.read_csv('Step2.csv')\n",
    "target = pd.DataFrame(df[['date', 'id','event_meal','MEAL', 'occasion_tagged', 'event_tagged']])\n",
    "print(\"------------- Menu.csv ------------------\")\n",
    "print(\"before editing\")\n",
    "print(target.shape[0])\n",
    "target = target[(target['date'] > '1840-01-01') & (target['date'] < '2018-12-01')]\n",
    "print(\"after delete invalid date:\")\n",
    "print(target.shape[0])\n",
    "target['meals'] = 'UNKNOWN'\n",
    "target['occasion'] = 'UNKNOWN'\n",
    "for index, row in target.iterrows():\n",
    "    if row['event_meal'] != 'UNKNOWN':\n",
    "        target.loc[index, 'meals'] = row['event_meal']\n",
    "    else:\n",
    "        if row['MEAL'] != 'UNKNOWN':\n",
    "            target.loc[index, 'meals'] = row['MEAL']\n",
    "\n",
    "    if row['occasion_tagged'] != 'UNKNOWN':\n",
    "        target.loc[index, 'occasion'] = row['occasion_tagged']\n",
    "    else:\n",
    "        if row['event_tagged'] != 'UNKNOWN':\n",
    "            target.loc[index, 'occasion'] = row['event_tagged']\n",
    "target = target[['date', 'id','meals','occasion']]\n",
    "target.to_csv('newMenu.csv')\n",
    "print(\"final output:\")\n",
    "print(target.shape[0])\n",
    "\n",
    "df = pd.read_csv('NYPL-Menus/MenuItem.csv')\n",
    "print(\"------------- MenuItem.csv ------------------\")\n",
    "print(\"before editing\")\n",
    "print(df.shape[0])\n",
    "df = df[(df['price'] > 0) & (df['price'] < 125000)]\n",
    "print(\"after drop invalid price:\")\n",
    "print(df.shape[0])\n",
    "target = pd.DataFrame(df[['price', 'id', 'menu_page_id','dish_id']])\n",
    "target.to_csv('newMenuItem.csv')\n",
    "print(\"final output:\")\n",
    "print(target.shape[0])\n",
    "\n",
    "df = pd.read_csv('NYPL-Menus/Dish.csv')\n",
    "print(\"------------- Dish.csv ------------------\")\n",
    "print(\"before editing\")\n",
    "print(df.shape[0])\n",
    "df = df[['highest_price', 'lowest_price', 'id', 'name']]\n",
    "target = df.dropna()\n",
    "print(\"after drop null value:\")\n",
    "print(target.shape[0])\n",
    "target.to_csv('newDish.csv')"
   ]
  },
  {
   "cell_type": "markdown",
   "metadata": {},
   "source": [
    "# Develop Relational Database"
   ]
  },
  {
   "cell_type": "code",
   "execution_count": null,
   "metadata": {},
   "outputs": [],
   "source": [
    "Menu = pd.read_csv('newMenu.csv')\n",
    "Dish = pd.read_csv('newDish.csv')\n",
    "MenuItem = pd.read_csv('newMenuItem.csv')\n",
    "MenuPage = pd.read_csv('MenuPage.csv')"
   ]
  },
  {
   "cell_type": "code",
   "execution_count": null,
   "metadata": {},
   "outputs": [],
   "source": [
    "Menu = Menu.loc[:, ~Menu.columns.str.contains('^Unnamed')]\n",
    "Dish = Dish.loc[:, ~Dish.columns.str.contains('^Unnamed')]\n",
    "MenuItem = MenuItem.loc[:, ~MenuItem.columns.str.contains('^Unnamed')]\n",
    "MenuPage = MenuPage.loc[:, ~MenuPage.columns.str.contains('^Unnamed')]"
   ]
  },
  {
   "cell_type": "markdown",
   "metadata": {},
   "source": [
    "## Create Database"
   ]
  },
  {
   "cell_type": "code",
   "execution_count": null,
   "metadata": {},
   "outputs": [],
   "source": [
    "import sqlite3"
   ]
  },
  {
   "cell_type": "code",
   "execution_count": null,
   "metadata": {},
   "outputs": [],
   "source": [
    "conn = sqlite3.connect('Full_database.db')\n",
    "c = conn.cursor()"
   ]
  },
  {
   "cell_type": "code",
   "execution_count": null,
   "metadata": {},
   "outputs": [],
   "source": [
    "# create dish table\n",
    "c.execute('''create table Dish_Table(\n",
    "    dish_id integer, \n",
    "    dish_name text,\n",
    "    dish_lowest_price float,\n",
    "    dish_highest_price float)''')\n",
    "\n",
    "# create MenuItem table\n",
    "c.execute('''create table MenuItem_Table(\n",
    "    item_id integer,\n",
    "    menu_page_id integer,\n",
    "    dish_id integer,\n",
    "    item_price float)''')\n",
    "\n",
    "# create MenuPage table \n",
    "c.execute('''create table MenuPage_Table(\n",
    "    menu_page_id integer,\n",
    "    menu_id integer,\n",
    "    page_number integer,\n",
    "    page_image_id integer,\n",
    "    page_full_height integer,\n",
    "    page_full_width integer,\n",
    "    page_uuid integer)''')\n",
    "\n",
    "# create Menu table\n",
    "c.execute('''create table Menu_Table(\n",
    "    menu_id integer,\n",
    "    occasion text,\n",
    "    meals text,\n",
    "    dated date)''')"
   ]
  },
  {
   "cell_type": "markdown",
   "metadata": {},
   "source": [
    "## Fill Database "
   ]
  },
  {
   "cell_type": "code",
   "execution_count": null,
   "metadata": {},
   "outputs": [],
   "source": [
    "# dish data \n",
    "dish_var = Dish[['id', 'name', 'lowest_price', 'highest_price']]\n",
    "\n",
    "dish_variable = [tuple(x) for x in dish_var.values]\n",
    "\n",
    "# fill dish database\n",
    "for row in dish_variable:\n",
    "     c.execute('insert into Dish_Table values (?,?,?,?)', row)\n",
    "\n",
    "print(pd.read_sql_query(\"SELECT * FROM Dish_Table\", conn))"
   ]
  },
  {
   "cell_type": "code",
   "execution_count": null,
   "metadata": {},
   "outputs": [],
   "source": [
    "# MenuItem data\n",
    "item_var = MenuItem[['id', 'menu_page_id', 'dish_id', 'price']]\n",
    "\n",
    "item_variable = [tuple(x) for x in item_var.values]\n",
    "\n",
    "# fill menuItem database\n",
    "for row in item_variable: \n",
    "    c.execute('insert into MenuItem_Table values (?,?,?,?)', row)\n",
    "\n",
    "print(pd.read_sql_query(\"SELECT * FROM MenuItem_Table\", conn))"
   ]
  },
  {
   "cell_type": "code",
   "execution_count": null,
   "metadata": {},
   "outputs": [],
   "source": [
    "# MenuPage data\n",
    "page_var = MenuPage[['id', 'menu_id', 'page_number', 'image_id', 'full_height', 'full_width', 'uuid']]\n",
    "\n",
    "page_variable = [tuple(x) for x in page_var.values]\n",
    "\n",
    "# fill MenuPage database\n",
    "for row in page_variable: \n",
    "    c.execute('insert into MenuPage_Table values (?,?,?,?,?,?,?)', row)\n",
    "\n",
    "print(pd.read_sql_query(\"SELECT * FROM MenuPage_Table\", conn))"
   ]
  },
  {
   "cell_type": "code",
   "execution_count": null,
   "metadata": {},
   "outputs": [],
   "source": [
    "# menu data\n",
    "menu_var = Menu[['id', 'occasion', 'meals', 'date']]\n",
    "\n",
    "menu_variable = [tuple(x) for x in menu_var.values]\n",
    "\n",
    "# fill in menupage database\n",
    "for row in menu_variable:\n",
    "    c.execute('insert into Menu_Table values (?,?,?,?)', row)\n",
    "\n",
    "print(pd.read_sql_query(\"SELECT * FROM Menu_Table\", conn))"
   ]
  },
  {
   "cell_type": "code",
   "execution_count": null,
   "metadata": {},
   "outputs": [],
   "source": [
    "conn.commit()"
   ]
  },
  {
   "cell_type": "markdown",
   "metadata": {},
   "source": [
    "# Check logical Integrity Constraints"
   ]
  },
  {
   "cell_type": "markdown",
   "metadata": {},
   "source": [
    "## Entity Integrity Constraints"
   ]
  },
  {
   "cell_type": "code",
   "execution_count": null,
   "metadata": {},
   "outputs": [],
   "source": [
    "# menu_table\n",
    "menu_null = pd.read_sql_query(\"select * from Menu_Table where menu_id is null\", conn)\n",
    "print(menu_null)"
   ]
  },
  {
   "cell_type": "code",
   "execution_count": null,
   "metadata": {},
   "outputs": [],
   "source": [
    "# menuItem table\n",
    "menuItem_null = pd.read_sql_query(\"select * from MenuItem_Table where item_id is null\", conn)\n",
    "print(menuItem_null)"
   ]
  },
  {
   "cell_type": "code",
   "execution_count": null,
   "metadata": {},
   "outputs": [],
   "source": [
    "# MenuPage table\n",
    "menuPage_null = pd.read_sql_query(\"select * from MenuPage_Table where menu_page_id is null\", conn)\n",
    "print(menuPage_null)"
   ]
  },
  {
   "cell_type": "code",
   "execution_count": null,
   "metadata": {},
   "outputs": [],
   "source": [
    "# Dish table\n",
    "dish_null = pd.read_sql_query(\"select * from Dish_Table where dish_id is null\", conn)\n",
    "print(dish_null)"
   ]
  },
  {
   "cell_type": "markdown",
   "metadata": {},
   "source": [
    "##  Key Integrity Constraints "
   ]
  },
  {
   "cell_type": "code",
   "execution_count": null,
   "metadata": {},
   "outputs": [],
   "source": [
    "# Dish Table\n",
    "print(pd.read_sql_query(\"select * from Dish_Table Group by dish_name, dish_lowest_price, dish_highest_price having count(*) > 1\", conn))"
   ]
  },
  {
   "cell_type": "code",
   "execution_count": null,
   "metadata": {},
   "outputs": [],
   "source": [
    "# MenuItem table\n",
    "print(pd.read_sql_query(\"select * from MenuItem_Table group by menu_page_id, dish_id, item_price having count(*) > 1\", conn)) "
   ]
  },
  {
   "cell_type": "code",
   "execution_count": null,
   "metadata": {},
   "outputs": [],
   "source": [
    "# MenuPage table\n",
    "print(pd.read_sql_query(\"select * from MenuPage_Table Group by menu_id, page_image_id, page_full_height, page_full_width, page_uuid having count(*) > 1\", conn))"
   ]
  },
  {
   "cell_type": "code",
   "execution_count": null,
   "metadata": {},
   "outputs": [],
   "source": [
    "# Menu table\n",
    "print(pd.read_sql_query(\"select * from Menu_Table Group by occasion, meals, dated having count(*) > 1\", conn))"
   ]
  },
  {
   "cell_type": "markdown",
   "metadata": {},
   "source": [
    "## Referenial Integrity Constraints"
   ]
  },
  {
   "cell_type": "code",
   "execution_count": null,
   "metadata": {
    "scrolled": false
   },
   "outputs": [],
   "source": [
    "# Menu page has to associate with at least one menu\n",
    "menu_id_rem = pd.read_sql_query(\"select * from MenuPage_Table where MenuPage_Table.menu_id not in (select Menu_Table.menu_id from Menu_Table)\", conn)\n",
    "\n",
    "print('MenuPage_Table')\n",
    "print('Menu_id')\n",
    "print('------------------------')\n",
    "print(menu_id_rem)"
   ]
  },
  {
   "cell_type": "code",
   "execution_count": null,
   "metadata": {},
   "outputs": [],
   "source": [
    "# Menu Item has to associate with at least one menu page \n",
    "menuItem_id_rem = pd.read_sql_query(\"select * from MenuItem_Table where MenuItem_Table.menu_page_id not in (select MenuPage_Table.menu_page_id from MenuPage_Table)\", conn)\n",
    "\n",
    "print('MenuItem_Table')\n",
    "print('menu_page_id')\n",
    "print('------------------------')\n",
    "print(menuItem_id_rem)"
   ]
  },
  {
   "cell_type": "code",
   "execution_count": null,
   "metadata": {
    "scrolled": true
   },
   "outputs": [],
   "source": [
    "# Dish in Menu item have exist in dish table\n",
    "item_id_rem = pd.read_sql_query(\"select * from MenuItem_Table where MenuItem_Table.dish_id not in (select Dish_Table.dish_id from Dish_Table)\", conn)\n",
    "\n",
    "print('MenuItem_Table')\n",
    "print('dish_id')\n",
    "print('------------------------')\n",
    "print(item_id_rem)"
   ]
  },
  {
   "cell_type": "markdown",
   "metadata": {},
   "source": [
    "# Remove Records "
   ]
  },
  {
   "cell_type": "code",
   "execution_count": null,
   "metadata": {},
   "outputs": [],
   "source": [
    "# Delete records with no entity integrity constraints\n",
    "# menu table\n",
    "c.execute(\"Delete from Menu_Table where Menu_Table.menu_id is null\")"
   ]
  },
  {
   "cell_type": "code",
   "execution_count": null,
   "metadata": {},
   "outputs": [],
   "source": [
    "# Delete Records with no key integrity constraints\n",
    "# dish table\n",
    "c.execute(\"Delete from Dish_Table where Dish_Table.dish_id in (select dish_id from Dish_Table Group by dish_name, dish_lowest_price, dish_highest_price having count(*) > 1)\")\n",
    "\n",
    "# # MenuItem table\n",
    "c.execute(\"Delete from MenuItem_Table where item_id not in (select distinct MenuItem_Table.item_id from MenuItem_Table group by menu_page_id, dish_id, item_price having count(*) = 1)\")\n",
    "\n",
    "# # MenuPage table\n",
    "c.execute(\"Delete from MenuPage_Table where MenuPage_Table.menu_page_id in (select menu_page_id from MenuPage_Table Group by menu_id, page_image_id, page_full_height, page_full_width, page_uuid having count(*) > 1)\")\n",
    "\n",
    "# # Menu table\n",
    "c.execute(\"Delete from Menu_Table where Menu_Table.menu_id not in (select menu_id from Menu_Table Group by occasion, meals, dated having count(*) = 1)\")"
   ]
  },
  {
   "cell_type": "code",
   "execution_count": null,
   "metadata": {},
   "outputs": [],
   "source": [
    "# Delete Records with no infereial integrity constraints \n",
    "# remove menu_id with no constraints in MenuPage table\n",
    "c.execute(\"Delete from MenuPage_Table where MenuPage_Table.menu_id in (select distinct MenuPage_Table.menu_id from MenuPage_Table where MenuPage_Table.menu_id not in (select Menu_Table.menu_id from Menu_Table))\")\n",
    "\n",
    "# # remove menu_page_id with no constraints in MenuItem table\n",
    "c.execute(\"Delete from MenuItem_Table where MenuItem_Table.menu_page_id in (select distinct MenuItem_Table.menu_page_id from MenuItem_Table where MenuItem_Table.menu_page_id not in (select MenuPage_Table.menu_page_id from MenuPage_Table))\")\n",
    "\n",
    "# # remove dish_id with no constraints from MenuPage table\n",
    "c.execute(\"Delete from MenuItem_Table where MenuItem_Table.item_id in (select distinct MenuItem_Table.item_id from MenuItem_Table where MenuItem_Table.dish_id not in (select Dish_Table.dish_id from Dish_Table))\")"
   ]
  },
  {
   "cell_type": "code",
   "execution_count": null,
   "metadata": {},
   "outputs": [],
   "source": [
    "conn.commit()"
   ]
  },
  {
   "cell_type": "markdown",
   "metadata": {},
   "source": [
    "# Results Analysis "
   ]
  },
  {
   "cell_type": "code",
   "execution_count": null,
   "metadata": {},
   "outputs": [],
   "source": [
    "import matplotlib.pyplot as plt\n",
    "%matplotlib inline\n",
    "\n",
    "print(pd.read_sql_query(\"select dish_id, count(*) from MenuItem_Table group by dish_id order by count(dish_id) desc \", conn))"
   ]
  },
  {
   "cell_type": "code",
   "execution_count": null,
   "metadata": {},
   "outputs": [],
   "source": [
    "# retrieve occasion for celery\n",
    "celery_occasion = pd.read_sql_query(\"select Dish_Table.dish_name, MenuItem_Table.item_price, MenuPage_Table.page_number, occasion, dated from Menu_Table JOIN MenuPage_Table JOIN MenuItem_Table JOIN Dish_Table ON Menu_Table.menu_id = MenuPage_Table.menu_id AND MenuPage_Table.menu_page_id = MenuItem_Table.menu_page_id AND MenuItem_Table.dish_id = Dish_Table.dish_id WHERE Dish_Table.dish_id = 15.0 AND occasion != 'UNKNOWN'\", conn)\n",
    "\n",
    "celery_occasions = pd.DataFrame(data = celery_occasion.groupby('occasion')['dated'].count())\n",
    "celery_occasions.plot(kind = 'bar')"
   ]
  },
  {
   "cell_type": "code",
   "execution_count": null,
   "metadata": {},
   "outputs": [],
   "source": [
    "# retrieve meals for celery\n",
    "celery_meals = pd.read_sql_query(\"select Dish_Table.dish_name, MenuItem_Table.item_price, MenuPage_Table.page_number, Menu_Table.meals, dated from Menu_Table JOIN MenuPage_Table JOIN MenuItem_Table JOIN Dish_Table ON Menu_Table.menu_id = MenuPage_Table.menu_id AND MenuPage_Table.menu_page_id = MenuItem_Table.menu_page_id AND MenuItem_Table.dish_id = Dish_Table.dish_id WHERE Dish_Table.dish_id = 15.0 AND meals != 'UNKNOWN'\", conn)\n",
    "\n",
    "Celery_meal = pd.DataFrame(data = celery_meals.groupby('meals')['dated'].count())\n",
    "Celery_meal.plot(kind = 'bar')"
   ]
  },
  {
   "cell_type": "code",
   "execution_count": null,
   "metadata": {},
   "outputs": [],
   "source": [
    "# retrieve price changes for celery over time \n",
    "celery_time = pd.read_sql_query(\"select Dish_Table.dish_name, MenuItem_Table.item_price, MenuPage_Table.page_number, dated from Menu_Table JOIN MenuPage_Table JOIN MenuItem_Table JOIN Dish_Table ON Menu_Table.menu_id = MenuPage_Table.menu_id AND MenuPage_Table.menu_page_id = MenuItem_Table.menu_page_id AND MenuItem_Table.dish_id = Dish_Table.dish_id WHERE Dish_Table.dish_id = 15.0\", conn)\n",
    "\n",
    "celery_time = pd.DataFrame(data = celery_time[['item_price', 'dated']])\n",
    "\n",
    "celery_time = celery_time.set_index('dated')\n",
    "celery_time.index = pd.to_datetime(celery_time.index)\n",
    "celery_time.plot()"
   ]
  }
 ],
 "metadata": {
  "kernelspec": {
   "display_name": "Python 3",
   "language": "python",
   "name": "python3"
  },
  "language_info": {
   "codemirror_mode": {
    "name": "ipython",
    "version": 3
   },
   "file_extension": ".py",
   "mimetype": "text/x-python",
   "name": "python",
   "nbconvert_exporter": "python",
   "pygments_lexer": "ipython3",
   "version": "3.7.0"
  }
 },
 "nbformat": 4,
 "nbformat_minor": 2
}
